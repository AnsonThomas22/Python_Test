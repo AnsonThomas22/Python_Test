{
 "cells": [
  {
   "cell_type": "code",
   "execution_count": 1,
   "metadata": {},
   "outputs": [
    {
     "name": "stdout",
     "output_type": "stream",
     "text": [
      "['Start', 'Clearing', 'River', 'Village', 'Cave']\n"
     ]
    }
   ],
   "source": [
    "#1\n",
    "ordered_part=['Start','River']\n",
    "jumbled_part=['Clearing','Village','Cave']\n",
    "\n",
    "def reconstruct_path(o,j):\n",
    "    for i in j:\n",
    "        if i =='Clearing':\n",
    "            o.insert(1,i)\n",
    "        elif i=='Village':\n",
    "            o.insert(3,i)\n",
    "        else:\n",
    "            o.insert(4,i)\n",
    "    print(o)\n",
    "\n",
    "reconstruct_path(ordered_part,jumbled_part)\n",
    "\n"
   ]
  },
  {
   "cell_type": "code",
   "execution_count": 2,
   "metadata": {},
   "outputs": [
    {
     "name": "stdout",
     "output_type": "stream",
     "text": [
      "\n",
      "\n",
      "\n",
      "{'abc': ['anson', 'comedy', 123], 'efg': ['lola', 'thriller', 456], 'xyz': ['drick', 'trajedy', 789]}\n",
      "\n",
      "\n",
      "\n",
      "Availability:  False\n",
      "The book abc  is checked out\n",
      "\n",
      "\n",
      "\n",
      "Availability:  True\n",
      "The book xyz  is checked out\n",
      "\n",
      "\n",
      "\n",
      "Availability:  True\n",
      "The book abc  is available\n",
      "\n",
      "\n",
      "\n",
      "{'abc': ['anson', 'comedy', 123], 'efg': ['lola', 'thriller', 456], 'xyz': ['drick', 'trajedy', 789], 'pqr': ['ronald', 'trajedy', '890']}\n"
     ]
    }
   ],
   "source": [
    "#2\n",
    "class Book:\n",
    "    def __init__(self, book:list):\n",
    "        self.book=book\n",
    "\n",
    "    def GetDetails(self):\n",
    "        for i in self.book:\n",
    "            return f\"The title is {i}\"\n",
    "        \n",
    "class Libraryitem(Book):\n",
    "    def __init__(self, book, author, genre, isbn):\n",
    "        super().__init__(book)\n",
    "        self.author=author\n",
    "        self.genre=genre\n",
    "        self.isbn=isbn\n",
    "        self.dict={}\n",
    "        self.availabilty=True\n",
    "\n",
    "    def GetDetails(self):\n",
    "        for i in range(len(self.book)):\n",
    "            self.dict.update({self.book[i]:[self.author[i],self.genre[i],self.isbn[i]]})\n",
    "        print(self.dict)\n",
    "\n",
    "    def Checkout(self,title):\n",
    "        self.availability=False\n",
    "        print('Availability: ',self.availability)\n",
    "        print('The book',title,' is checked out')\n",
    "\n",
    "    def ReturnBook(self,title):\n",
    "        self.availability=True\n",
    "        print('Availability: ',self.availability)\n",
    "        print('The book',title,' is checked out')\n",
    "    \n",
    "    def UpdateAvailability(self,title):\n",
    "        if title in self.book:\n",
    "            self.availability=True\n",
    "            print('Availability: ',self.availability)\n",
    "            print('The book',title,' is available')\n",
    "        else:\n",
    "            self.availability=False\n",
    "            print('Availability: ',self.availability)\n",
    "            print('The book',title,' is not available')\n",
    "\n",
    "    def AddToLibrary(self,title1,author1, genre1, isbn1):\n",
    "        self.dict.update({title1:[author1,genre1,isbn1]})\n",
    "        print(self.dict)\n",
    "\n",
    "\n",
    "book=['abc','efg','xyz']\n",
    "author=['anson','lola','drick']\n",
    "genre=['comedy','thriller','trajedy']\n",
    "isbn=[123,456,789,1010]\n",
    "library=Libraryitem(book,author,genre,isbn)\n",
    "print(\"\\n\\n\")\n",
    "library.GetDetails()\n",
    "print(\"\\n\\n\")\n",
    "library.Checkout('abc')\n",
    "print(\"\\n\\n\")\n",
    "library.ReturnBook('xyz')\n",
    "print(\"\\n\\n\")\n",
    "library.UpdateAvailability('abc')\n",
    "print(\"\\n\\n\")\n",
    "library.AddToLibrary('pqr','ronald','trajedy','890')"
   ]
  },
  {
   "cell_type": "code",
   "execution_count": 3,
   "metadata": {},
   "outputs": [
    {
     "name": "stdout",
     "output_type": "stream",
     "text": [
      "Title: National Geographic, Availability: Available, Issue Number: 2024-08\n",
      "Title: Inception, Availability: Available, Duration: 148 minutes\n"
     ]
    }
   ],
   "source": [
    "#3\n",
    "class LibraryItem:\n",
    "    def __init__(self, title, availability=True):\n",
    "        self.title = title\n",
    "        self.availability = availability\n",
    "\n",
    "    def get_details(self):\n",
    "        return f\"Title: {self.title}, Availability: {'Available' if self.availability else 'Not Available'}\"\n",
    "\n",
    "class Magazine(LibraryItem):\n",
    "    def __init__(self, title, issue_number, availability=True):\n",
    "        super().__init__(title, availability)\n",
    "        self.issue_number = issue_number\n",
    "\n",
    "    def get_details(self):\n",
    "        details = super().get_details()\n",
    "        return f\"{details}, Issue Number: {self.issue_number}\"\n",
    "\n",
    "class DVD(LibraryItem):\n",
    "    def __init__(self, title, duration, availability=True):\n",
    "        super().__init__(title, availability)\n",
    "        self.duration = duration\n",
    "\n",
    "    def get_details(self):\n",
    "        details = super().get_details()\n",
    "        return f\"{details}, Duration: {self.duration} minutes\"\n",
    "\n",
    "\n",
    "magazine = Magazine(\"National Geographic\", \"2024-08\")\n",
    "dvd = DVD(\"Inception\", 148)\n",
    "\n",
    "print(magazine.get_details())\n",
    "print(dvd.get_details())"
   ]
  },
  {
   "cell_type": "code",
   "execution_count": null,
   "metadata": {},
   "outputs": [],
   "source": []
  }
 ],
 "metadata": {
  "kernelspec": {
   "display_name": "base",
   "language": "python",
   "name": "python3"
  },
  "language_info": {
   "codemirror_mode": {
    "name": "ipython",
    "version": 3
   },
   "file_extension": ".py",
   "mimetype": "text/x-python",
   "name": "python",
   "nbconvert_exporter": "python",
   "pygments_lexer": "ipython3",
   "version": "3.9.7"
  }
 },
 "nbformat": 4,
 "nbformat_minor": 2
}
